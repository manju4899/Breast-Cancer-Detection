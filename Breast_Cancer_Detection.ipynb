{
  "nbformat": 4,
  "nbformat_minor": 0,
  "metadata": {
    "colab": {
      "name": "Copy of Copy of Ml_Project_Roll_No_14_18_TE_Comp_A.ipynb",
      "provenance": [],
      "collapsed_sections": []
    },
    "kernelspec": {
      "name": "python3",
      "display_name": "Python 3"
    }
  },
  "cells": [
    {
      "cell_type": "code",
      "metadata": {
        "id": "_9jXRt5TmMay",
        "colab_type": "code",
        "outputId": "6cadf4a1-0ac4-4ba1-d0b2-219d9e6842e8",
        "colab": {
          "base_uri": "https://localhost:8080/",
          "height": 286
        }
      },
      "source": [
        "# Importing the libraries\n",
        "import numpy as np\n",
        "import matplotlib.pyplot as plt\n",
        "import pandas as pd\n",
        "\n",
        "\n",
        "# Importing the dataset\n",
        "# Class: (2 for benign, 4 for malignant)\n",
        "\n",
        "names = ['id', 'clump_thickness', 'uniform_cell_size', 'uniform_cell_shape', \n",
        "         'marginal_adhesion', 'single_epithilial_size',\n",
        "         'bare_nuclei', 'bland_chromatin', 'normal_nucleoli', 'mitoses', 'class']\n",
        "dataset = pd.read_csv('http://archive.ics.uci.edu/ml/machine-learning-databases/breast-cancer-wisconsin/breast-cancer-wisconsin.data' , names = names)  \n",
        "\n",
        "dataset.shape\n",
        "dataset[158: 165]\n"
      ],
      "execution_count": 0,
      "outputs": [
        {
          "output_type": "execute_result",
          "data": {
            "text/html": [
              "<div>\n",
              "<style scoped>\n",
              "    .dataframe tbody tr th:only-of-type {\n",
              "        vertical-align: middle;\n",
              "    }\n",
              "\n",
              "    .dataframe tbody tr th {\n",
              "        vertical-align: top;\n",
              "    }\n",
              "\n",
              "    .dataframe thead th {\n",
              "        text-align: right;\n",
              "    }\n",
              "</style>\n",
              "<table border=\"1\" class=\"dataframe\">\n",
              "  <thead>\n",
              "    <tr style=\"text-align: right;\">\n",
              "      <th></th>\n",
              "      <th>id</th>\n",
              "      <th>clump_thickness</th>\n",
              "      <th>uniform_cell_size</th>\n",
              "      <th>uniform_cell_shape</th>\n",
              "      <th>marginal_adhesion</th>\n",
              "      <th>single_epithilial_size</th>\n",
              "      <th>bare_nuclei</th>\n",
              "      <th>bland_chromatin</th>\n",
              "      <th>normal_nucleoli</th>\n",
              "      <th>mitoses</th>\n",
              "      <th>class</th>\n",
              "    </tr>\n",
              "  </thead>\n",
              "  <tbody>\n",
              "    <tr>\n",
              "      <th>158</th>\n",
              "      <td>1193683</td>\n",
              "      <td>1</td>\n",
              "      <td>1</td>\n",
              "      <td>2</td>\n",
              "      <td>1</td>\n",
              "      <td>3</td>\n",
              "      <td>?</td>\n",
              "      <td>1</td>\n",
              "      <td>1</td>\n",
              "      <td>1</td>\n",
              "      <td>2</td>\n",
              "    </tr>\n",
              "    <tr>\n",
              "      <th>159</th>\n",
              "      <td>1196295</td>\n",
              "      <td>9</td>\n",
              "      <td>9</td>\n",
              "      <td>10</td>\n",
              "      <td>3</td>\n",
              "      <td>6</td>\n",
              "      <td>10</td>\n",
              "      <td>7</td>\n",
              "      <td>10</td>\n",
              "      <td>6</td>\n",
              "      <td>4</td>\n",
              "    </tr>\n",
              "    <tr>\n",
              "      <th>160</th>\n",
              "      <td>1196915</td>\n",
              "      <td>10</td>\n",
              "      <td>7</td>\n",
              "      <td>7</td>\n",
              "      <td>4</td>\n",
              "      <td>5</td>\n",
              "      <td>10</td>\n",
              "      <td>5</td>\n",
              "      <td>7</td>\n",
              "      <td>2</td>\n",
              "      <td>4</td>\n",
              "    </tr>\n",
              "    <tr>\n",
              "      <th>161</th>\n",
              "      <td>1197080</td>\n",
              "      <td>4</td>\n",
              "      <td>1</td>\n",
              "      <td>1</td>\n",
              "      <td>1</td>\n",
              "      <td>2</td>\n",
              "      <td>1</td>\n",
              "      <td>3</td>\n",
              "      <td>2</td>\n",
              "      <td>1</td>\n",
              "      <td>2</td>\n",
              "    </tr>\n",
              "    <tr>\n",
              "      <th>162</th>\n",
              "      <td>1197270</td>\n",
              "      <td>3</td>\n",
              "      <td>1</td>\n",
              "      <td>1</td>\n",
              "      <td>1</td>\n",
              "      <td>2</td>\n",
              "      <td>1</td>\n",
              "      <td>3</td>\n",
              "      <td>1</td>\n",
              "      <td>1</td>\n",
              "      <td>2</td>\n",
              "    </tr>\n",
              "    <tr>\n",
              "      <th>163</th>\n",
              "      <td>1197440</td>\n",
              "      <td>1</td>\n",
              "      <td>1</td>\n",
              "      <td>1</td>\n",
              "      <td>2</td>\n",
              "      <td>1</td>\n",
              "      <td>3</td>\n",
              "      <td>1</td>\n",
              "      <td>1</td>\n",
              "      <td>7</td>\n",
              "      <td>2</td>\n",
              "    </tr>\n",
              "    <tr>\n",
              "      <th>164</th>\n",
              "      <td>1197510</td>\n",
              "      <td>5</td>\n",
              "      <td>1</td>\n",
              "      <td>1</td>\n",
              "      <td>1</td>\n",
              "      <td>2</td>\n",
              "      <td>?</td>\n",
              "      <td>3</td>\n",
              "      <td>1</td>\n",
              "      <td>1</td>\n",
              "      <td>2</td>\n",
              "    </tr>\n",
              "  </tbody>\n",
              "</table>\n",
              "</div>"
            ],
            "text/plain": [
              "          id  clump_thickness  ...  mitoses  class\n",
              "158  1193683                1  ...        1      2\n",
              "159  1196295                9  ...        6      4\n",
              "160  1196915               10  ...        2      4\n",
              "161  1197080                4  ...        1      2\n",
              "162  1197270                3  ...        1      2\n",
              "163  1197440                1  ...        7      2\n",
              "164  1197510                5  ...        1      2\n",
              "\n",
              "[7 rows x 11 columns]"
            ]
          },
          "metadata": {
            "tags": []
          },
          "execution_count": 141
        }
      ]
    },
    {
      "cell_type": "code",
      "metadata": {
        "id": "rpjFLPgr8hfP",
        "colab_type": "code",
        "colab": {}
      },
      "source": [
        "#id is not relevant feature\n",
        "dataset.drop('id',axis = 1,inplace = True)"
      ],
      "execution_count": 0,
      "outputs": []
    },
    {
      "cell_type": "code",
      "metadata": {
        "id": "GN7BzJStxEb9",
        "colab_type": "code",
        "colab": {}
      },
      "source": [
        "#You will find that bare_nuclei columns contain '?' \n",
        "#Hence we need to handle it\n",
        "\n",
        "# Handling Missing value\n",
        "dataset.replace('?',np.nan, inplace=True)\n",
        "\n",
        "X = dataset.iloc[:, 0:9].values\n",
        "y = dataset.iloc[:, 9].values\n",
        " \n",
        "from sklearn.impute import SimpleImputer\n",
        "missingvalues = SimpleImputer(missing_values = np.nan , strategy = 'mean', verbose= 0)\n",
        "missingvalues = missingvalues.fit(X[:,0:9])\n",
        "X[:,0:9]=missingvalues.transform(X[:,0:9])\n",
        "\n",
        "\n"
      ],
      "execution_count": 0,
      "outputs": []
    },
    {
      "cell_type": "code",
      "metadata": {
        "id": "CWzqvmoiPCho",
        "colab_type": "code",
        "colab": {}
      },
      "source": [
        ""
      ],
      "execution_count": 0,
      "outputs": []
    },
    {
      "cell_type": "code",
      "metadata": {
        "id": "4_lvK65GyIdT",
        "colab_type": "code",
        "outputId": "eff7dcf0-3eb4-4666-b71c-e237e5ce366b",
        "colab": {
          "base_uri": "https://localhost:8080/",
          "height": 296
        }
      },
      "source": [
        "#EDA\n",
        "\n",
        "import matplotlib.pyplot as plt\n",
        "import seaborn as sns\n",
        "\n",
        "#Univariate analysis target.\n",
        "sns.countplot(dataset['class'])"
      ],
      "execution_count": 0,
      "outputs": [
        {
          "output_type": "execute_result",
          "data": {
            "text/plain": [
              "<matplotlib.axes._subplots.AxesSubplot at 0x7fadd5a68400>"
            ]
          },
          "metadata": {
            "tags": []
          },
          "execution_count": 144
        },
        {
          "output_type": "display_data",
          "data": {
            "image/png": "[encoded data removed]",
            "text/plain": [
              "<Figure size 432x288 with 1 Axes>"
            ]
          },
          "metadata": {
            "tags": []
          }
        }
      ]
    },
    {
      "cell_type": "code",
      "metadata": {
        "id": "N1bZORYndby4",
        "colab_type": "code",
        "outputId": "7efc8e0e-92e1-4cdc-9c17-ac4782a03eba",
        "colab": {
          "base_uri": "https://localhost:8080/",
          "height": 1000
        }
      },
      "source": [
        "dataset.hist(figsize=(15,15))\n",
        "plt.show()\n",
        "\n",
        "dataset.describe()"
      ],
      "execution_count": 0,
      "outputs": [
        {
          "output_type": "display_data",
          "data": {
            "image/png": "[encoded data removed]",
            "text/plain": [
              "<Figure size 1080x1080 with 9 Axes>"
            ]
          },
          "metadata": {
            "tags": []
          }
        },
        {
          "output_type": "execute_result",
          "data": {
            "text/html": [
              "<div>\n",
              "<style scoped>\n",
              "    .dataframe tbody tr th:only-of-type {\n",
              "        vertical-align: middle;\n",
              "    }\n",
              "\n",
              "    .dataframe tbody tr th {\n",
              "        vertical-align: top;\n",
              "    }\n",
              "\n",
              "    .dataframe thead th {\n",
              "        text-align: right;\n",
              "    }\n",
              "</style>\n",
              "<table border=\"1\" class=\"dataframe\">\n",
              "  <thead>\n",
              "    <tr style=\"text-align: right;\">\n",
              "      <th></th>\n",
              "      <th>clump_thickness</th>\n",
              "      <th>uniform_cell_size</th>\n",
              "      <th>uniform_cell_shape</th>\n",
              "      <th>marginal_adhesion</th>\n",
              "      <th>single_epithilial_size</th>\n",
              "      <th>bland_chromatin</th>\n",
              "      <th>normal_nucleoli</th>\n",
              "      <th>mitoses</th>\n",
              "      <th>class</th>\n",
              "    </tr>\n",
              "  </thead>\n",
              "  <tbody>\n",
              "    <tr>\n",
              "      <th>count</th>\n",
              "      <td>699.000000</td>\n",
              "      <td>699.000000</td>\n",
              "      <td>699.000000</td>\n",
              "      <td>699.000000</td>\n",
              "      <td>699.000000</td>\n",
              "      <td>699.000000</td>\n",
              "      <td>699.000000</td>\n",
              "      <td>699.000000</td>\n",
              "      <td>699.000000</td>\n",
              "    </tr>\n",
              "    <tr>\n",
              "      <th>mean</th>\n",
              "      <td>4.417740</td>\n",
              "      <td>3.134478</td>\n",
              "      <td>3.207439</td>\n",
              "      <td>2.806867</td>\n",
              "      <td>3.216023</td>\n",
              "      <td>3.437768</td>\n",
              "      <td>2.866953</td>\n",
              "      <td>1.589413</td>\n",
              "      <td>2.689557</td>\n",
              "    </tr>\n",
              "    <tr>\n",
              "      <th>std</th>\n",
              "      <td>2.815741</td>\n",
              "      <td>3.051459</td>\n",
              "      <td>2.971913</td>\n",
              "      <td>2.855379</td>\n",
              "      <td>2.214300</td>\n",
              "      <td>2.438364</td>\n",
              "      <td>3.053634</td>\n",
              "      <td>1.715078</td>\n",
              "      <td>0.951273</td>\n",
              "    </tr>\n",
              "    <tr>\n",
              "      <th>min</th>\n",
              "      <td>1.000000</td>\n",
              "      <td>1.000000</td>\n",
              "      <td>1.000000</td>\n",
              "      <td>1.000000</td>\n",
              "      <td>1.000000</td>\n",
              "      <td>1.000000</td>\n",
              "      <td>1.000000</td>\n",
              "      <td>1.000000</td>\n",
              "      <td>2.000000</td>\n",
              "    </tr>\n",
              "    <tr>\n",
              "      <th>25%</th>\n",
              "      <td>2.000000</td>\n",
              "      <td>1.000000</td>\n",
              "      <td>1.000000</td>\n",
              "      <td>1.000000</td>\n",
              "      <td>2.000000</td>\n",
              "      <td>2.000000</td>\n",
              "      <td>1.000000</td>\n",
              "      <td>1.000000</td>\n",
              "      <td>2.000000</td>\n",
              "    </tr>\n",
              "    <tr>\n",
              "      <th>50%</th>\n",
              "      <td>4.000000</td>\n",
              "      <td>1.000000</td>\n",
              "      <td>1.000000</td>\n",
              "      <td>1.000000</td>\n",
              "      <td>2.000000</td>\n",
              "      <td>3.000000</td>\n",
              "      <td>1.000000</td>\n",
              "      <td>1.000000</td>\n",
              "      <td>2.000000</td>\n",
              "    </tr>\n",
              "    <tr>\n",
              "      <th>75%</th>\n",
              "      <td>6.000000</td>\n",
              "      <td>5.000000</td>\n",
              "      <td>5.000000</td>\n",
              "      <td>4.000000</td>\n",
              "      <td>4.000000</td>\n",
              "      <td>5.000000</td>\n",
              "      <td>4.000000</td>\n",
              "      <td>1.000000</td>\n",
              "      <td>4.000000</td>\n",
              "    </tr>\n",
              "    <tr>\n",
              "      <th>max</th>\n",
              "      <td>10.000000</td>\n",
              "      <td>10.000000</td>\n",
              "      <td>10.000000</td>\n",
              "      <td>10.000000</td>\n",
              "      <td>10.000000</td>\n",
              "      <td>10.000000</td>\n",
              "      <td>10.000000</td>\n",
              "      <td>10.000000</td>\n",
              "      <td>4.000000</td>\n",
              "    </tr>\n",
              "  </tbody>\n",
              "</table>\n",
              "</div>"
            ],
            "text/plain": [
              "       clump_thickness  uniform_cell_size  ...     mitoses       class\n",
              "count       699.000000         699.000000  ...  699.000000  699.000000\n",
              "mean          4.417740           3.134478  ...    1.589413    2.689557\n",
              "std           2.815741           3.051459  ...    1.715078    0.951273\n",
              "min           1.000000           1.000000  ...    1.000000    2.000000\n",
              "25%           2.000000           1.000000  ...    1.000000    2.000000\n",
              "50%           4.000000           1.000000  ...    1.000000    2.000000\n",
              "75%           6.000000           5.000000  ...    1.000000    4.000000\n",
              "max          10.000000          10.000000  ...   10.000000    4.000000\n",
              "\n",
              "[8 rows x 9 columns]"
            ]
          },
          "metadata": {
            "tags": []
          },
          "execution_count": 145
        }
      ]
    },
    {
      "cell_type": "code",
      "metadata": {
        "id": "sCO8LDsF3S_p",
        "colab_type": "code",
        "outputId": "5257baa0-53b3-4c73-b2f1-22d939d3b173",
        "colab": {
          "base_uri": "https://localhost:8080/",
          "height": 688
        }
      },
      "source": [
        "import pandas as pd\n",
        "import numpy as np\n",
        "import seaborn as sns\n",
        "#get correlations of each features in dataset\n",
        "dataset['bare_nuclei'] = X[:,6]\n",
        "corrmat = dataset.corr()\n",
        "top_corr_features = corrmat.index\n",
        "\n",
        "plt.figure(figsize=(10,10))\n",
        "#plot heat map\n",
        "g=sns.heatmap(dataset[top_corr_features].corr(),annot=True,cmap=\"RdYlGn\")\n"
      ],
      "execution_count": 0,
      "outputs": [
        {
          "output_type": "display_data",
          "data": {
            "image/png": "[encoded data removed]",
            "text/plain": [
              "<Figure size 720x720 with 2 Axes>"
            ]
          },
          "metadata": {
            "tags": []
          }
        }
      ]
    },
    {
      "cell_type": "code",
      "metadata": {
        "id": "81VuEyMTLD7E",
        "colab_type": "code",
        "outputId": "34001c8b-6e08-4152-af3b-4ae2ee140cb5",
        "colab": {
          "base_uri": "https://localhost:8080/",
          "height": 170
        }
      },
      "source": [
        "#Correlation with output variable\n",
        "cor = dataset.corr()\n",
        "cor_target = abs(cor[\"class\"])\n",
        "#Selecting highly correlated features\n",
        "relevant_features = cor_target[cor_target>0.5]\n",
        "relevant_features"
      ],
      "execution_count": 0,
      "outputs": [
        {
          "output_type": "execute_result",
          "data": {
            "text/plain": [
              "clump_thickness           0.716001\n",
              "uniform_cell_size         0.817904\n",
              "uniform_cell_shape        0.818934\n",
              "marginal_adhesion         0.696800\n",
              "single_epithilial_size    0.682785\n",
              "bland_chromatin           0.756616\n",
              "normal_nucleoli           0.712244\n",
              "class                     1.000000\n",
              "Name: class, dtype: float64"
            ]
          },
          "metadata": {
            "tags": []
          },
          "execution_count": 147
        }
      ]
    },
    {
      "cell_type": "code",
      "metadata": {
        "id": "RNvAQwsG6J-t",
        "colab_type": "code",
        "colab": {}
      },
      "source": [
        "dataset.drop('bare_nuclei',axis = 1,inplace = True)\n",
        "dataset.drop('mitoses',axis = 1,inplace = True)\n",
        "X = dataset.iloc[:, 0:7].values\n"
      ],
      "execution_count": 0,
      "outputs": []
    },
    {
      "cell_type": "code",
      "metadata": {
        "id": "MfzeY4RQ003B",
        "colab_type": "code",
        "colab": {}
      },
      "source": [
        "# Splitting the dataset into the Training set and Test set\n",
        "from sklearn.model_selection import train_test_split\n",
        "X_train, X_test, y_train, y_test = train_test_split(X, y, test_size = 0.2,random_state = 0)\n",
        "\n",
        "\n",
        "# Feature Scaling\n",
        "from sklearn.preprocessing import StandardScaler\n",
        "sc = StandardScaler()\n",
        "X_train = sc.fit_transform(X_train)\n",
        "X_test = sc.transform(X_test)\n",
        "\n"
      ],
      "execution_count": 0,
      "outputs": []
    },
    {
      "cell_type": "code",
      "metadata": {
        "id": "vFaYmPR25CfV",
        "colab_type": "code",
        "outputId": "c15f27b3-247f-457b-e139-6f416456f53a",
        "colab": {
          "base_uri": "https://localhost:8080/",
          "height": 272
        }
      },
      "source": [
        "# Fitting SVM to the Training set\n",
        "from sklearn.svm import SVC\n",
        "classifier = SVC(kernel = 'rbf')\n",
        "classifier.fit(X_train, y_train)\n",
        "y_pred = classifier.predict(X_test)\n",
        "\n",
        "#Stratified KFold\n",
        "from sklearn.model_selection import StratifiedKFold, cross_val_score\n",
        "kfold = StratifiedKFold(n_splits = 20, random_state = None)\n",
        "cv_results = cross_val_score(classifier, X, y, cv = kfold, scoring = 'accuracy')\n",
        "print(\"Accuracy Score of SVM:\")\n",
        "print(cv_results.mean())\n",
        "print()\n",
        "#Checking performance our model \n",
        "from sklearn.metrics import accuracy_score,confusion_matrix,classification_report\n",
        "\n",
        "#Checking performance our model .\n",
        "print(\"Confusion Matrix \")\n",
        "print(confusion_matrix(y_test, y_pred))\n",
        "print(classification_report(y_test,y_pred))"
      ],
      "execution_count": 0,
      "outputs": [
        {
          "output_type": "stream",
          "text": [
            "Accuracy Score of SVM:\n",
            "0.9557142857142857\n",
            "\n",
            "Confusion Matrix \n",
            "[[82  3]\n",
            " [ 1 54]]\n",
            "              precision    recall  f1-score   support\n",
            "\n",
            "           2       0.99      0.96      0.98        85\n",
            "           4       0.95      0.98      0.96        55\n",
            "\n",
            "    accuracy                           0.97       140\n",
            "   macro avg       0.97      0.97      0.97       140\n",
            "weighted avg       0.97      0.97      0.97       140\n",
            "\n"
          ],
          "name": "stdout"
        }
      ]
    },
    {
      "cell_type": "code",
      "metadata": {
        "id": "hSx5F9Y46Gpt",
        "colab_type": "code",
        "outputId": "acdd23ed-e463-4cf7-f4f6-40a9aaa902ad",
        "colab": {
          "base_uri": "https://localhost:8080/",
          "height": 663
        }
      },
      "source": [
        "# Visualising the Training set results of SVM\n",
        "from matplotlib.colors import ListedColormap\n",
        "X_set, y_set = X_train, y_train\n",
        "X1, X2 = np.meshgrid(np.arange(start = X_set[:, 0].min() - 1, stop = X_set[:, 0].max() + 1, step = 0.01),\n",
        "                     np.arange(start = X_set[:, 6].min() - 1, stop = X_set[:, 6].max() + 1, step = 0.01))\n",
        "plt.contourf(X1, X2, classifier.predict(np.array([X1.ravel(), X2.ravel()] + [np.repeat(0, X1.ravel().size) for _ in range(5)]).T).reshape(X1.shape),\n",
        "             alpha = 0.75, cmap = ListedColormap(('red', 'green')))\n",
        "plt.xlim(X1.min(), X1.max())\n",
        "plt.ylim(X2.min(), X2.max())\n",
        "for i, j in enumerate(np.unique(y_set)):\n",
        "    plt.scatter(X_set[y_set == j, 0], X_set[y_set == j, 6],\n",
        "                c = ListedColormap(('red', 'green'))(i), label = j)\n",
        "\n",
        "plt.title('SVM (Training set)')\n",
        "plt.xlabel('clump_thickness')\n",
        "plt.ylabel('normal_nucleoi')\n",
        "plt.legend()\n",
        "plt.show()\n",
        "\n",
        "\n",
        "\n",
        "\n",
        "# Visualising the Testing set results of SVM\n",
        "from matplotlib.colors import ListedColormap\n",
        "X_set, y_set = X_test, y_test\n",
        "X1, X2 = np.meshgrid(np.arange(start = X_set[:, 0].min() - 1, stop = X_set[:, 0].max() + 1, step = 0.01),\n",
        "                     np.arange(start = X_set[:, 6].min() - 1, stop = X_set[:, 6].max() + 1, step = 0.01))\n",
        "plt.contourf(X1, X2, classifier.predict(np.array([X1.ravel(), X2.ravel()] + [np.repeat(0, X1.ravel().size) for _ in range(5)]).T).reshape(X1.shape),\n",
        "             alpha = 0.75, cmap = ListedColormap(('red', 'green')))\n",
        "plt.xlim(X1.min(), X1.max())\n",
        "plt.ylim(X2.min(), X2.max())\n",
        "for i, j in enumerate(np.unique(y_set)):\n",
        "    plt.scatter(X_set[y_set == j, 0], X_set[y_set == j, 6],\n",
        "                c = ListedColormap(('red', 'green'))(i), label = j)\n",
        "\n",
        "plt.title('SVM (Testing set)')\n",
        "plt.xlabel('clump_thickness')\n",
        "plt.ylabel('normal_nucleoi')\n",
        "plt.legend()\n",
        "plt.show()"
      ],
      "execution_count": 0,
      "outputs": [
        {
          "output_type": "stream",
          "text": [
            "'c' argument looks like a single numeric RGB or RGBA sequence, which should be avoided as value-mapping will have precedence in case its length matches with 'x' & 'y'.  Please use a 2-D array with a single row if you really want to specify the same RGB or RGBA value for all points.\n",
            "'c' argument looks like a single numeric RGB or RGBA sequence, which should be avoided as value-mapping will have precedence in case its length matches with 'x' & 'y'.  Please use a 2-D array with a single row if you really want to specify the same RGB or RGBA value for all points.\n"
          ],
          "name": "stderr"
        },
        {
          "output_type": "display_data",
          "data": {
            "image/png": "[encoded data removed]",
            "text/plain": [
              "<Figure size 432x288 with 1 Axes>"
            ]
          },
          "metadata": {
            "tags": []
          }
        },
        {
          "output_type": "stream",
          "text": [
            "'c' argument looks like a single numeric RGB or RGBA sequence, which should be avoided as value-mapping will have precedence in case its length matches with 'x' & 'y'.  Please use a 2-D array with a single row if you really want to specify the same RGB or RGBA value for all points.\n",
            "'c' argument looks like a single numeric RGB or RGBA sequence, which should be avoided as value-mapping will have precedence in case its length matches with 'x' & 'y'.  Please use a 2-D array with a single row if you really want to specify the same RGB or RGBA value for all points.\n"
          ],
          "name": "stderr"
        },
        {
          "output_type": "display_data",
          "data": {
            "image/png": "[encoded data removed]",
            "text/plain": [
              "<Figure size 432x288 with 1 Axes>"
            ]
          },
          "metadata": {
            "tags": []
          }
        }
      ]
    },
    {
      "cell_type": "code",
      "metadata": {
        "id": "QAazvocQIJ-g",
        "colab_type": "code",
        "outputId": "d4b23d92-5cd4-4f39-a19e-28c7e9166663",
        "colab": {
          "base_uri": "https://localhost:8080/",
          "height": 289
        }
      },
      "source": [
        "# Fitting kNN to the Training set\n",
        "from sklearn.neighbors import KNeighborsClassifier\n",
        "classifier2 = KNeighborsClassifier(n_neighbors = 7 ,metric='minkowski', p = 2)\n",
        "classifier2.fit(X_train, y_train)\n",
        "\n",
        "# Predicting the Test set results\n",
        "y_pred = classifier2.predict(X_test)\n",
        "\n",
        "\n",
        "#kfold = KFold(n_splits = 20, random_state = seed, shuffle = True)\n",
        "kfold = StratifiedKFold(n_splits = 20, random_state = None)\n",
        "cv_results = cross_val_score(classifier2, X, y, cv = kfold, scoring = 'accuracy')\n",
        "print(\"Accuracy Score of kNN:\")\n",
        "print(cv_results.mean())\n",
        "print()\n",
        "# Making the Confusion Matrix\n",
        "cm = confusion_matrix(y_test, y_pred)\n",
        "print(\"KNN Accuracy Score : %f\" %accuracy_score(y_test, y_pred))\n",
        "print(\"KNN Confusion Matrix : \")\n",
        "print(cm)\n",
        "print(classification_report(y_test,y_pred))"
      ],
      "execution_count": 0,
      "outputs": [
        {
          "output_type": "stream",
          "text": [
            "Accuracy Score of kNN:\n",
            "0.9528571428571428\n",
            "\n",
            "KNN Accuracy Score : 0.957143\n",
            "KNN Confusion Matrix : \n",
            "[[82  3]\n",
            " [ 3 52]]\n",
            "              precision    recall  f1-score   support\n",
            "\n",
            "           2       0.96      0.96      0.96        85\n",
            "           4       0.95      0.95      0.95        55\n",
            "\n",
            "    accuracy                           0.96       140\n",
            "   macro avg       0.96      0.96      0.96       140\n",
            "weighted avg       0.96      0.96      0.96       140\n",
            "\n"
          ],
          "name": "stdout"
        }
      ]
    },
    {
      "cell_type": "code",
      "metadata": {
        "id": "Kj919wqDJEar",
        "colab_type": "code",
        "outputId": "f6fb29c4-8398-4606-99b8-48154ea0ebeb",
        "colab": {
          "base_uri": "https://localhost:8080/",
          "height": 306
        }
      },
      "source": [
        "#Tune Hyperparameter for SVM\n",
        "\n",
        "from sklearn.model_selection import GridSearchCV\n",
        "parameters = [{'C': [0.8, 1,2,3,5, 10, 15, 20], 'kernel': ['linear']},\n",
        "              {'C': [0.8, 1,2,3,5, 10, 15, 20], 'kernel': ['rbf'], 'gamma': [1,0.1, 0.01, 0.001, 0.0001]}]\n",
        "grid_search = GridSearchCV(estimator = classifier,\n",
        "                           param_grid = parameters,\n",
        "                           scoring = 'accuracy',\n",
        "                           cv = 10,\n",
        "                           n_jobs = -1)\n",
        "grid_search = grid_search.fit(X_train, y_train)\n",
        "best_accuracy = grid_search.best_score_\n",
        "best_parameters = grid_search.best_params_\n",
        "print(best_accuracy)\n",
        "print(best_parameters)\n",
        "\n",
        "y_pred = grid_search.predict(X_test)\n",
        "\n",
        "#Checking performance our model with ROC Score.\n",
        "print()\n",
        "print(\"For Test set\")\n",
        "print(\"SVM Accuracy Score: %f\" %accuracy_score(y_test,y_pred))\n",
        "# Making the Confusion Matrix\n",
        "cm = confusion_matrix(y_test, y_pred)\n",
        "print(\"SVM Confusion Matrix : \")\n",
        "print(cm)\n",
        "print(classification_report(y_test,y_pred))\n"
      ],
      "execution_count": 0,
      "outputs": [
        {
          "output_type": "stream",
          "text": [
            "0.9607142857142857\n",
            "{'C': 0.8, 'gamma': 0.1, 'kernel': 'rbf'}\n",
            "\n",
            "For Test set\n",
            "SVM Accuracy Score: 0.971429\n",
            "SVM Confusion Matrix : \n",
            "[[82  3]\n",
            " [ 1 54]]\n",
            "              precision    recall  f1-score   support\n",
            "\n",
            "           2       0.99      0.96      0.98        85\n",
            "           4       0.95      0.98      0.96        55\n",
            "\n",
            "    accuracy                           0.97       140\n",
            "   macro avg       0.97      0.97      0.97       140\n",
            "weighted avg       0.97      0.97      0.97       140\n",
            "\n"
          ],
          "name": "stdout"
        }
      ]
    },
    {
      "cell_type": "code",
      "metadata": {
        "id": "tZp2WgJlK1wd",
        "colab_type": "code",
        "outputId": "e12d0b3f-1527-40ff-ce50-fac15a68df4f",
        "colab": {
          "base_uri": "https://localhost:8080/",
          "height": 323
        }
      },
      "source": [
        "#List Hyperparameters that we want to tune for kNN.\n",
        "\n",
        "n_neighbors = list(range(1,10))\n",
        "p=[1,2]\n",
        "#Convert to dictionary\n",
        "hyperparameters = dict(n_neighbors=n_neighbors, p=p)\n",
        "#Use GridSearch\n",
        "grid_search2 = GridSearchCV(classifier2, hyperparameters, cv=5)\n",
        "#Fit the model\n",
        "grid_search2 = grid_search2.fit(X_train,y_train)\n",
        "\n",
        "best_accuracy = grid_search2.best_score_\n",
        "best_parameters = grid_search2.best_params_\n",
        "print(best_accuracy)\n",
        "print(best_parameters)\n",
        "\n",
        "y_pred = grid_search2.predict(X_test)\n",
        "\n",
        "#Checking performance our model \n",
        "print()\n",
        "print(\"For Test set\")\n",
        "print(\"KNN Accuracy Score: %f\" %accuracy_score(y_test,y_pred))\n",
        "# Making the Confusion Matrix\n",
        "cm = confusion_matrix(y_test, y_pred)\n",
        "print(\"kNN Confusion Matrix : \")\n",
        "print(cm)\n",
        "print()\n",
        "print(classification_report(y_test,y_pred))"
      ],
      "execution_count": 0,
      "outputs": [
        {
          "output_type": "stream",
          "text": [
            "0.9625\n",
            "{'n_neighbors': 5, 'p': 1}\n",
            "\n",
            "For Test set\n",
            "KNN Accuracy Score: 0.964286\n",
            "kNN Confusion Matrix : \n",
            "[[83  2]\n",
            " [ 3 52]]\n",
            "\n",
            "              precision    recall  f1-score   support\n",
            "\n",
            "           2       0.97      0.98      0.97        85\n",
            "           4       0.96      0.95      0.95        55\n",
            "\n",
            "    accuracy                           0.96       140\n",
            "   macro avg       0.96      0.96      0.96       140\n",
            "weighted avg       0.96      0.96      0.96       140\n",
            "\n"
          ],
          "name": "stdout"
        }
      ]
    }
  ]
}